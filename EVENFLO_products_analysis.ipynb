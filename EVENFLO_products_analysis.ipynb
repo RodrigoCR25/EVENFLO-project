{
 "cells": [
  {
   "cell_type": "code",
   "execution_count": 5,
   "id": "11aa53c4",
   "metadata": {},
   "outputs": [],
   "source": [
    "#List of main EVENFLO products\n",
    "\n",
    "EVENFLO_products = [\"Biberones\", \"Vasos\", \"Mamilas\", \"Baberos\"]"
   ]
  },
  {
   "cell_type": "code",
   "execution_count": 6,
   "id": "1bbc0f45",
   "metadata": {},
   "outputs": [
    {
     "name": "stdout",
     "output_type": "stream",
     "text": [
      "Biberones\n",
      "Vasos\n",
      "Mamilas\n",
      "Baberos\n"
     ]
    }
   ],
   "source": [
    "for products in EVENFLO_products:\n",
    "    print(products)"
   ]
  },
  {
   "cell_type": "code",
   "execution_count": 14,
   "id": "78b2bd25",
   "metadata": {},
   "outputs": [
    {
     "ename": "SyntaxError",
     "evalue": "invalid syntax (1454605611.py, line 4)",
     "output_type": "error",
     "traceback": [
      "\u001b[1;36m  Input \u001b[1;32mIn [14]\u001b[1;36m\u001b[0m\n\u001b[1;33m    {\"EVENFLO products\",: \"Vasos entrenadores\", \"Type\":\"Autoservicio\"},\u001b[0m\n\u001b[1;37m                        ^\u001b[0m\n\u001b[1;31mSyntaxError\u001b[0m\u001b[1;31m:\u001b[0m invalid syntax\n"
     ]
    }
   ],
   "source": [
    "# A dictionary of EVENFLO products and the type of distribution channel.\n",
    "\n",
    "EVENFLO_products_type = [{\"EVENFLO products\": \"Biberones\", \"Type\":\"Autoservicio\"},\n",
    "                        {\"EVENFLO products\",: \"Vasos entrenadores\", \"Type\":\"Autoservicio\"},\n",
    "                        {\"EVENFLO products\",: \"Mamilas\", \"Type\":\"Autoservicio\"},\n",
    "                        {\"EVENFLO products\",: \"Baberos\", \"Type\":\"Autoservicio\"},\n",
    "                        {\"EVENFLO products\",: \"Biberones\", \"Type\":\"Canales especializados\"},\n",
    "                        {\"EVENFLO products\",: \"Vasos entrenadores\", \"Type\":\"Canales especializados\"},\n",
    "                        {\"EVENFLO products\",: \"Mamilas\", \"Type\":\"Canales especializados\"},\n",
    "                        {\"EVENFLO products\",: \"Baberos\", \"Type\":\"Canales especializados\"},\n",
    "                        {\"EVENFLO products\",: \"Biberones\", \"Type\":\"E-Commerce\"},\n",
    "                        {\"EVENFLO products\",: \"Vasos entrenadores\", \"Type\":\"E-Commerce\"},\n",
    "                        {\"EVENFLO products\",: \"Mamilas\", \"Type\":\"E-Commerce\"},\n",
    "                        {\"EVENFLO products\": \"Baberos\", \"Type\":\"E-Commerce\"}]"
   ]
  },
  {
   "cell_type": "code",
   "execution_count": null,
   "id": "3cc1250d",
   "metadata": {},
   "outputs": [],
   "source": []
  },
  {
   "cell_type": "code",
   "execution_count": null,
   "id": "62822da8",
   "metadata": {},
   "outputs": [],
   "source": []
  }
 ],
 "metadata": {
  "kernelspec": {
   "display_name": "Python 3 (ipykernel)",
   "language": "python",
   "name": "python3"
  },
  "language_info": {
   "codemirror_mode": {
    "name": "ipython",
    "version": 3
   },
   "file_extension": ".py",
   "mimetype": "text/x-python",
   "name": "python",
   "nbconvert_exporter": "python",
   "pygments_lexer": "ipython3",
   "version": "3.9.12"
  }
 },
 "nbformat": 4,
 "nbformat_minor": 5
}
